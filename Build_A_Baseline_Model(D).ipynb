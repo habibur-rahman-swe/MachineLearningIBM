{
  "nbformat": 4,
  "nbformat_minor": 0,
  "metadata": {
    "colab": {
      "provenance": []
    },
    "kernelspec": {
      "name": "python3",
      "display_name": "Python 3"
    },
    "language_info": {
      "name": "python"
    }
  },
  "cells": [
    {
      "cell_type": "code",
      "execution_count": 47,
      "metadata": {
        "id": "R7kZlU-J6E7L"
      },
      "outputs": [],
      "source": [
        "# import necessary libraries\n",
        "import numpy as np\n",
        "import pandas as pd\n",
        "from sklearn.model_selection import train_test_split\n",
        "from sklearn.preprocessing import StandardScaler\n",
        "from sklearn.preprocessing import MinMaxScaler\n",
        "from sklearn.metrics import mean_squared_error\n",
        "from keras.models import Sequential\n",
        "from keras.layers import Dense\n",
        "from keras.optimizers import Adam"
      ]
    },
    {
      "cell_type": "code",
      "source": [
        "# read data\n",
        "path = \"/content/sample_data/concrete_data.csv\""
      ],
      "metadata": {
        "id": "J7wOtx9aQAV6"
      },
      "execution_count": 2,
      "outputs": []
    },
    {
      "cell_type": "code",
      "source": [
        "data = pd.read_csv(path)\n",
        "data.info()"
      ],
      "metadata": {
        "colab": {
          "base_uri": "https://localhost:8080/"
        },
        "id": "YVFufn_xRdzI",
        "outputId": "fa4a1310-3cda-49d8-a7f7-75108120b749"
      },
      "execution_count": 19,
      "outputs": [
        {
          "output_type": "stream",
          "name": "stdout",
          "text": [
            "<class 'pandas.core.frame.DataFrame'>\n",
            "RangeIndex: 1030 entries, 0 to 1029\n",
            "Data columns (total 9 columns):\n",
            " #   Column              Non-Null Count  Dtype  \n",
            "---  ------              --------------  -----  \n",
            " 0   Cement              1030 non-null   float64\n",
            " 1   Blast Furnace Slag  1030 non-null   float64\n",
            " 2   Fly Ash             1030 non-null   float64\n",
            " 3   Water               1030 non-null   float64\n",
            " 4   Superplasticizer    1030 non-null   float64\n",
            " 5   Coarse Aggregate    1030 non-null   float64\n",
            " 6   Fine Aggregate      1030 non-null   float64\n",
            " 7   Age                 1030 non-null   int64  \n",
            " 8   Strength            1030 non-null   float64\n",
            "dtypes: float64(8), int64(1)\n",
            "memory usage: 72.5 KB\n"
          ]
        }
      ]
    },
    {
      "cell_type": "code",
      "source": [
        "# split data into features and targets\n",
        "X = data[['Cement', 'Blast Furnace Slag', 'Fly Ash', 'Water', 'Superplasticizer', 'Coarse Aggregate', 'Fine Aggregate', 'Age']]\n",
        "y = data['Strength']"
      ],
      "metadata": {
        "id": "qVnpvEybRjgo"
      },
      "execution_count": 42,
      "outputs": []
    },
    {
      "cell_type": "code",
      "source": [
        "def get_mse(X, y):\n",
        "    # Normalize the the data\n",
        "    scaler = MinMaxScaler()\n",
        "    X = scaler.fit_transform(X)\n",
        "\n",
        "    # Splitting the data\n",
        "    X_train, X_test, y_train, y_test = train_test_split(X, y, test_size=0.3, random_state=42)\n",
        "\n",
        "    # Building the model\n",
        "    model = Sequential()\n",
        "    model.add(Dense(10, input_shape=(X_train.shape[1],), activation='relu'))\n",
        "    model.add(Dense(10, activation='relu'))\n",
        "    model.add(Dense(10, activation='relu'))\n",
        "    model.add(Dense(1))\n",
        "\n",
        "    # Compiling the model\n",
        "    model.compile(optimizer='adam', loss='mean_squared_error')\n",
        "\n",
        "    # Training the model\n",
        "    model.fit(X_train, y_train, epochs=50, batch_size=32, verbose=0)\n",
        "\n",
        "    # Predicting the target\n",
        "    y_pred = model.predict(X_test)\n",
        "\n",
        "    # Mean absolute error\n",
        "    mse = mean_squared_error(y_test, y_pred)\n",
        "\n",
        "    return mse"
      ],
      "metadata": {
        "id": "XoJEghOJfH86"
      },
      "execution_count": 54,
      "outputs": []
    },
    {
      "cell_type": "code",
      "source": [
        "# list to store the mse\n",
        "mse = []\n",
        "\n",
        "# a list of 50 mean squared errors\n",
        "for i in range(0, 50):\n",
        "  # Call the function with your scaled features and target\n",
        "  mse.append(get_mse(X, y))\n",
        "\n",
        "len(mse)"
      ],
      "metadata": {
        "colab": {
          "base_uri": "https://localhost:8080/"
        },
        "id": "69ApFag5guCi",
        "outputId": "3083ff8e-5539-47fc-ddc1-f7eee77e5158"
      },
      "execution_count": 55,
      "outputs": [
        {
          "output_type": "stream",
          "name": "stdout",
          "text": [
            "10/10 [==============================] - 0s 2ms/step\n",
            "10/10 [==============================] - 0s 2ms/step\n",
            "10/10 [==============================] - 0s 2ms/step\n",
            "10/10 [==============================] - 0s 3ms/step\n",
            "10/10 [==============================] - 0s 3ms/step\n",
            "10/10 [==============================] - 0s 2ms/step\n",
            "10/10 [==============================] - 0s 3ms/step\n",
            "10/10 [==============================] - 0s 2ms/step\n",
            "10/10 [==============================] - 0s 2ms/step\n",
            "10/10 [==============================] - 0s 2ms/step\n",
            "10/10 [==============================] - 0s 2ms/step\n",
            "10/10 [==============================] - 0s 2ms/step\n",
            "10/10 [==============================] - 0s 4ms/step\n",
            "10/10 [==============================] - 0s 2ms/step\n",
            "10/10 [==============================] - 0s 2ms/step\n",
            "10/10 [==============================] - 0s 2ms/step\n",
            "10/10 [==============================] - 0s 2ms/step\n",
            "10/10 [==============================] - 0s 2ms/step\n",
            "10/10 [==============================] - 0s 4ms/step\n",
            "10/10 [==============================] - 0s 2ms/step\n",
            "10/10 [==============================] - 0s 2ms/step\n",
            "10/10 [==============================] - 0s 2ms/step\n",
            "10/10 [==============================] - 0s 2ms/step\n",
            "10/10 [==============================] - 0s 2ms/step\n",
            "10/10 [==============================] - 0s 2ms/step\n",
            "10/10 [==============================] - 0s 2ms/step\n",
            "10/10 [==============================] - 0s 2ms/step\n",
            "10/10 [==============================] - 0s 3ms/step\n",
            "10/10 [==============================] - 0s 2ms/step\n",
            "10/10 [==============================] - 0s 2ms/step\n",
            "10/10 [==============================] - 0s 2ms/step\n",
            "10/10 [==============================] - 0s 2ms/step\n",
            "10/10 [==============================] - 0s 2ms/step\n",
            "10/10 [==============================] - 0s 3ms/step\n",
            "10/10 [==============================] - 0s 2ms/step\n",
            "10/10 [==============================] - 0s 2ms/step\n",
            "10/10 [==============================] - 0s 2ms/step\n",
            "10/10 [==============================] - 0s 2ms/step\n",
            "10/10 [==============================] - 0s 2ms/step\n",
            "10/10 [==============================] - 0s 3ms/step\n",
            "10/10 [==============================] - 0s 2ms/step\n",
            "10/10 [==============================] - 0s 2ms/step\n",
            "10/10 [==============================] - 0s 3ms/step\n",
            "10/10 [==============================] - 0s 2ms/step\n",
            "10/10 [==============================] - 0s 2ms/step\n",
            "10/10 [==============================] - 0s 3ms/step\n",
            "10/10 [==============================] - 0s 2ms/step\n",
            "10/10 [==============================] - 0s 2ms/step\n",
            "10/10 [==============================] - 0s 2ms/step\n",
            "10/10 [==============================] - 0s 2ms/step\n"
          ]
        },
        {
          "output_type": "execute_result",
          "data": {
            "text/plain": [
              "50"
            ]
          },
          "metadata": {},
          "execution_count": 55
        }
      ]
    },
    {
      "cell_type": "markdown",
      "source": [
        "# A"
      ],
      "metadata": {
        "id": "ICE6vkCesFyU"
      }
    },
    {
      "cell_type": "code",
      "source": [
        "# mean and the standard deviation of the \"mse\"\n",
        "print(\"Mean:\", np.mean(mse))\n",
        "print(\"Standard deviation:\", np.std(mse))\n"
      ],
      "metadata": {
        "colab": {
          "base_uri": "https://localhost:8080/"
        },
        "id": "IOUBRIl5n79B",
        "outputId": "dd71e6ce-5b32-4548-d3b7-62d9870ee90e"
      },
      "execution_count": 45,
      "outputs": [
        {
          "output_type": "stream",
          "name": "stdout",
          "text": [
            "Mean: 426.0941122759939\n",
            "Standard deviation: 802.1407624258721\n"
          ]
        }
      ]
    },
    {
      "cell_type": "markdown",
      "source": [
        "# B (used a normalized version of the data)"
      ],
      "metadata": {
        "id": "R_zRZ0hksFwS"
      }
    },
    {
      "cell_type": "code",
      "source": [
        "# mean and stardard deviation after normalization\n",
        "print(\"Mean:\", np.mean(mse))\n",
        "print(\"Standard deviation:\", np.std(mse))"
      ],
      "metadata": {
        "colab": {
          "base_uri": "https://localhost:8080/"
        },
        "id": "ocdnZoXtoEFA",
        "outputId": "7252ced8-d3a0-4fb9-c971-2d40c719a7db"
      },
      "execution_count": 50,
      "outputs": [
        {
          "output_type": "stream",
          "name": "stdout",
          "text": [
            "Mean: 249.75152535561952\n",
            "Standard deviation: 48.293170261884\n"
          ]
        }
      ]
    },
    {
      "cell_type": "markdown",
      "source": [
        "# C (Used 100 epochs for training)"
      ],
      "metadata": {
        "id": "lBGwqdSBsQ0a"
      }
    },
    {
      "cell_type": "code",
      "source": [
        "# mean and stardard deviation after Used 100 epochs for training\n",
        "print(\"Mean:\", np.mean(mse))\n",
        "print(\"Standard deviation:\", np.std(mse))"
      ],
      "metadata": {
        "colab": {
          "base_uri": "https://localhost:8080/"
        },
        "id": "QVjC3iZarpHp",
        "outputId": "5728ca93-2230-4c15-d191-5745c3a8358a"
      },
      "execution_count": 53,
      "outputs": [
        {
          "output_type": "stream",
          "name": "stdout",
          "text": [
            "Mean: 182.70354099246535\n",
            "Standard deviation: 23.923722262364866\n"
          ]
        }
      ]
    },
    {
      "cell_type": "code",
      "source": [
        "# mean and stardard deviation after used three hidden layers, each of 10 nodes and ReLU activation function\n",
        "print(\"Mean:\", np.mean(mse))\n",
        "print(\"Standard deviation:\", np.std(mse))"
      ],
      "metadata": {
        "colab": {
          "base_uri": "https://localhost:8080/"
        },
        "id": "xJoySqK5wTmy",
        "outputId": "72da97a7-ed65-4a85-e633-81c9f0c5c02d"
      },
      "execution_count": 56,
      "outputs": [
        {
          "output_type": "stream",
          "name": "stdout",
          "text": [
            "Mean: 121.67276680181389\n",
            "Standard deviation: 11.881860444593922\n"
          ]
        }
      ]
    },
    {
      "cell_type": "code",
      "source": [],
      "metadata": {
        "id": "T2Y52XXJwlwJ"
      },
      "execution_count": null,
      "outputs": []
    }
  ]
}